{
 "cells": [
  {
   "cell_type": "markdown",
   "metadata": {},
   "source": [
    "# Shamir Secret Sharing"
   ]
  },
  {
   "cell_type": "markdown",
   "metadata": {},
   "source": [
    "First, let's import some \"helper\" functions for dealing with polynomials."
   ]
  },
  {
   "cell_type": "code",
   "execution_count": null,
   "metadata": {},
   "outputs": [],
   "source": [
    "from helper import *\n",
    "import matplotlib.pyplot as plt"
   ]
  },
  {
   "cell_type": "markdown",
   "metadata": {},
   "source": [
    "## Share\n",
    "Here is our sharing function. It takes as input `s` (the secret), `n` (the number of parties to share amongst), `t` (the degree of the polynomial used for sharing, so t+1 is the minimum number of parties needed to reconstruct the secret), and `p` (**REMOVE THIS?**). The input `printout` tells the function whether it should print an explanation while it's working or not."
   ]
  },
  {
   "cell_type": "code",
   "execution_count": null,
   "metadata": {},
   "outputs": [],
   "source": [
    "def share(s, n, t, p, printout=False):\n",
    "    # check p\n",
    "    if not isprime(p):\n",
    "        print(\"p={} is not prime!\".format(p))\n",
    "        return\n",
    "    if p <= n:\n",
    "        print(\"p={} must be greater than n={}\".format(p, n))\n",
    "        return\n",
    "        \n",
    "    # check t\n",
    "    if t >= n:\n",
    "        print(\"t={} must be less than n={}\".format(t, n))\n",
    "        return\n",
    "\n",
    "    # check s is in field\n",
    "    if p <= s:\n",
    "        print(\"s={} must be less than p={}\".format(s, p))\n",
    "        return\n",
    "        \n",
    "    ### the interesting part ###########################\n",
    "    coeffs = []\n",
    "    for i in range(t):\n",
    "        # sample coefficients from F_p = {0, ..., p-1}\n",
    "        coeffs.append(randint(0,p-1))\n",
    "    # secret is the y-intercept / constant term of the poly\n",
    "    coeffs.append(s)\n",
    "    \n",
    "    shares = []\n",
    "    for i in range(1,n+1):\n",
    "        shares.append((i, eval_poly(coeffs, i)))\n",
    "    #####################################################\n",
    "        \n",
    "    if printout:\n",
    "        # plot the polynomial\n",
    "        print(\"The random degree t={} polynomial is\".format(t))\n",
    "        print_poly(coeffs)\n",
    "        x = linspace(0, n, n+1)\n",
    "        y = [eval_poly(coeffs, i) for i in x]\n",
    "        plt.plot(x, y)\n",
    "    \n",
    "        # plot the shares\n",
    "        print()\n",
    "        print(\"The shares are points on that polynomial:\")\n",
    "        print(shares)\n",
    "        x1 = [shares[i][0] for i in range(len(shares))]\n",
    "        y1 = [shares[i][1] for i in range(len(shares))]\n",
    "        plt.scatter(x1, y1)\n",
    "    \n",
    "        # plot the secret\n",
    "        plt.scatter(0, s, color='orange')\n",
    "    \n",
    "        print()\n",
    "        print(\"Here is a visual representation (secret in orange).\")\n",
    "        \n",
    "    return shares"
   ]
  },
  {
   "cell_type": "markdown",
   "metadata": {},
   "source": [
    "For example, say our secret is the number 42. We'd like to share it among 10 parties (n=10), and we'll allow any 4 of those to recover the secret (t+1 can recover, so t=3). Now let's pick a prime number p that's bigger than both the secret and the number of parties (so, p>42). The next largest prime is 43, so let's try that!\n",
    "\n",
    "How would you call the `share` function with these parameters?\n",
    "\n",
    "**Answer**\n",
    "```\n",
    "shares = share(42, 10, 3, 43)\n",
    "```"
   ]
  },
  {
   "cell_type": "code",
   "execution_count": null,
   "metadata": {},
   "outputs": [],
   "source": [
    "shares = share(42, n=10, t=3, p=43, printout=True)"
   ]
  },
  {
   "cell_type": "markdown",
   "metadata": {},
   "source": [
    "Now we can distribute these points among our 10 parties!"
   ]
  },
  {
   "cell_type": "markdown",
   "metadata": {},
   "source": [
    "## Reconstruct\n",
    "Say 4 of those parties (Alice, Bob, Charlie, and Diane) want to recover the secret. We set $t=3$, so they should be able to do this (remember, a minimum of $t+1$ parties is needed). Together, they hold 4 points on the degree-3 polynomial, which uniquely defines it! They can pool this information to recover the polynomial $f$ and evaluate it at $x=0$ using the `recon` function:"
   ]
  },
  {
   "cell_type": "code",
   "execution_count": null,
   "metadata": {},
   "outputs": [],
   "source": [
    "def recon(shares, n, t):\n",
    "    if len(shares) < t+1:\n",
    "        print(\"Not enough shares to reconstruct! ({} < t+1={})\".format(len(shares), t+1))\n",
    "        return\n",
    "    \n",
    "    # plot submitted shares on poly plot?\n",
    "    \n",
    "    # i Lagrange basis polynomials evaluated at 0\n",
    "    ell = [1]*len(shares)\n",
    "    for i in range(len(shares)):\n",
    "        for j in range(len(shares)):\n",
    "            if i!=j:\n",
    "                ell[i] *= float(0-shares[j][0])/(shares[i][0]-shares[j][0])\n",
    "    \n",
    "    # interpolate\n",
    "    # f(X) = sum_1^{t+1} ell_i(X) * y_i\n",
    "    # s = f(0)\n",
    "    s = 0\n",
    "    for i in range(len(shares)):\n",
    "        s += ell[i]*shares[i][1]\n",
    "\n",
    "    print(\"The reconstructed secret is:\")\n",
    "    return int(s)"
   ]
  },
  {
   "cell_type": "markdown",
   "metadata": {},
   "source": [
    "Assuming Alice, Bob, Charlie, and Diane have the points for $x=1,2,3,4$, respectively, can you use the shares of 42 we created earlier to recover the secret?\n",
    "\n",
    "**Answer**\n",
    "```\n",
    "recon(shares[:4], n=10, t=3)\n",
    "```"
   ]
  },
  {
   "cell_type": "code",
   "execution_count": null,
   "metadata": {},
   "outputs": [],
   "source": [
    "recon_s = recon([shares[0], shares[1], shares[4], shares[5]], n=10, t=3, printout=True)"
   ]
  },
  {
   "cell_type": "markdown",
   "metadata": {},
   "source": [
    "## Sharing messages\n",
    "So far we've shared only numbers. This might seem limiting, but the whole world can be represented in numbers! For instance, we can share messages by turning letters into numbers:\n",
    "\n",
    "| a | b | c | d | e | f | g | h | i | j | k | l | m | n | o | p | q | r | s | t | u | v | w | x | y | z |\n",
    "|:-:|:-:|:-:|:-:|:-:|:-:|:-:|:-:|:-:|:-:|:-:|:-:|:-:|:-:|:-:|:-:|:-:|:-:|:-:|:-:|:-:|:-:|:-:|:-:|:-:|:-:|\n",
    "| 1 | 2 | 3 | 4 | 5 | 6 | 7 | 8 | 9 | 10 | 11 | 12 | 13 | 14 | 15 | 16 | 17 | 18 | 19 | 20 | 21 | 22 | 23 | 24 | 25 | 26 |\n",
    "\n",
    "Then to send the message \"Hello world!\", we turn it into a list of numbers: `[8, 5, 12, 12, 15, 23, 15, 18, 12, 4]` (for now, to keep things simple, we'll ignore spaces, punctuation, and any other symbols). Then we can share each of the numbers in the list, and each party will have a list of numbers that are shares of the message.\n",
    "\n",
    "The functions `share_msg` and `recon_msg` do exactly this. `share_msg` converts each letter in a message to a number and shares each of those numbers. It outputs a list of shares (points) for each party. Notice that the x-coordinate of the points is the same for all the points in one party's set! `recon_msg` takes each party's list of points and reconstructs each letter; then it outputs the recovered message (since we didn't consider spaces, punctuation, etc., those are missing from the reconstructed message)."
   ]
  },
  {
   "cell_type": "code",
   "execution_count": null,
   "metadata": {},
   "outputs": [],
   "source": [
    "def share_msg(msg, n, t, p=29):\n",
    "    arr = convert_msg(msg)\n",
    "    shares_by_letter = []\n",
    "    for x in arr:\n",
    "        shares_by_letter.append(share(x, n, t, p))\n",
    "    \n",
    "    shares_by_party = []\n",
    "    for i in range(n):\n",
    "        share_i = [row[i] for row in shares_by_letter]\n",
    "        shares_by_party.append(share_i)\n",
    "        print(\"Party {}'s share is: {}\".format(i+1, share_i))\n",
    "    return shares_by_party\n",
    "\n",
    "def recon_msg(arr_shares, n, t):\n",
    "    ans = []\n",
    "    for i in range(len(arr_shares[0])):\n",
    "        letter_shares = [arr[i] for arr in arr_shares]\n",
    "        ans.append(recon(letter_shares, n, t))\n",
    "    return nums_to_msg(ans)"
   ]
  },
  {
   "cell_type": "markdown",
   "metadata": {},
   "source": [
    "Here is how we share our example message \"Hello world!\" among 5 parties so that any t+1=3 can recover:"
   ]
  },
  {
   "cell_type": "code",
   "execution_count": null,
   "metadata": {},
   "outputs": [],
   "source": [
    "msg_shares = share_msg(\"Hello world!\", n=5, t=2)"
   ]
  },
  {
   "cell_type": "markdown",
   "metadata": {},
   "source": [
    "And here it is, reconstructed using all the shares:"
   ]
  },
  {
   "cell_type": "code",
   "execution_count": null,
   "metadata": {},
   "outputs": [],
   "source": [
    "recon_msg(msg_shares, n=5, t=5)"
   ]
  },
  {
   "cell_type": "markdown",
   "metadata": {},
   "source": [
    "We can also reconstruct it using only 3 (or 4) shares:"
   ]
  },
  {
   "cell_type": "code",
   "execution_count": null,
   "metadata": {},
   "outputs": [],
   "source": [
    "recon_msg([msg_shares[0], msg_shares[1], msg_shares[3]], n=5, t=2)"
   ]
  },
  {
   "cell_type": "markdown",
   "metadata": {},
   "source": [
    "## Now it's your turn!"
   ]
  },
  {
   "cell_type": "code",
   "execution_count": null,
   "metadata": {},
   "outputs": [],
   "source": []
  }
 ],
 "metadata": {
  "kernelspec": {
   "display_name": "Python 3",
   "language": "python",
   "name": "python3"
  },
  "language_info": {
   "codemirror_mode": {
    "name": "ipython",
    "version": 3
   },
   "file_extension": ".py",
   "mimetype": "text/x-python",
   "name": "python",
   "nbconvert_exporter": "python",
   "pygments_lexer": "ipython3",
   "version": "3.7.7"
  }
 },
 "nbformat": 4,
 "nbformat_minor": 4
}
