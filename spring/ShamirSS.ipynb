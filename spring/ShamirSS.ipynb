{
 "cells": [
  {
   "cell_type": "markdown",
   "metadata": {},
   "source": [
    "# Shamir Secret Sharing"
   ]
  },
  {
   "cell_type": "markdown",
   "metadata": {},
   "source": [
    "First, let's import some \"helper\" functions for dealing with polynomials."
   ]
  },
  {
   "cell_type": "code",
   "execution_count": null,
   "metadata": {},
   "outputs": [],
   "source": [
    "### uncomment below for CoLab only\n",
    "# from pydrive.auth import GoogleAuth\n",
    "# from pydrive.drive import GoogleDrive\n",
    "# from google.colab import auth\n",
    "# from oauth2client.client import GoogleCredentials\n",
    "\n",
    "# auth.authenticate_user()\n",
    "# gauth = GoogleAuth()\n",
    "# gauth.credentials = GoogleCredentials.get_application_default()\n",
    "# drive = GoogleDrive(gauth)"
   ]
  },
  {
   "cell_type": "code",
   "execution_count": null,
   "metadata": {},
   "outputs": [],
   "source": [
    "### uncomment below for CoLab only\n",
    "# module = drive.CreateFile({'id':'1-i5Q4b1T7HIV2j5EqhbnX46t_tR9Fq7o'})\n",
    "# module.GetContentFile('helper.py')"
   ]
  },
  {
   "cell_type": "code",
   "execution_count": null,
   "metadata": {},
   "outputs": [],
   "source": [
    "from helper import *\n",
    "import matplotlib.pyplot as plt"
   ]
  },
  {
   "cell_type": "markdown",
   "metadata": {},
   "source": [
    "## Share\n",
    "Here is our sharing function. It takes as input `s` (the secret), `n` (the number of parties to share amongst), and `t` (the degree of the polynomial used for sharing, so t+1 is the minimum number of parties needed to reconstruct the secret). (You don't need to worry about `p`.) The input `printout` tells the function whether it should print an explanation of what it's doing or not."
   ]
  },
  {
   "cell_type": "code",
   "execution_count": null,
   "metadata": {},
   "outputs": [],
   "source": [
    "def share(s, n, t, p=0, printout=False):\n",
    "    if p == 0:\n",
    "        p = nextprime(s)\n",
    "        \n",
    "    # check t\n",
    "    if t >= n:\n",
    "        print(\"t={} must be less than n={}\".format(t, n))\n",
    "        return\n",
    "\n",
    "    # check s is in field\n",
    "    if p <= s:\n",
    "        print(\"s={} must be less than p={}\".format(s, p))\n",
    "        return\n",
    "        \n",
    "    ### the interesting part ###########################\n",
    "    # pick a random polynomial\n",
    "    coeffs = []\n",
    "    for i in range(t):\n",
    "        coeffs.append(randint(0,p-1))\n",
    "    # secret is the y-intercept / constant term of the poly\n",
    "    coeffs.append(s)\n",
    "    \n",
    "    shares = []\n",
    "    for i in range(1,n+1):\n",
    "        shares.append((i, eval_poly(coeffs, i)))\n",
    "    #####################################################\n",
    "        \n",
    "    if printout:\n",
    "        # plot the polynomial\n",
    "        print(\"The random degree t={} polynomial is\".format(t))\n",
    "        print_poly(coeffs)\n",
    "        x = linspace(0, n, n+1)\n",
    "        y = [eval_poly(coeffs, i) for i in x]\n",
    "        plt.plot(x, y)\n",
    "    \n",
    "        # plot the shares\n",
    "        print()\n",
    "        print(\"The shares are points on that polynomial:\")\n",
    "        print(shares)\n",
    "        x1 = [shares[i][0] for i in range(len(shares))]\n",
    "        y1 = [shares[i][1] for i in range(len(shares))]\n",
    "        plt.scatter(x1, y1)\n",
    "    \n",
    "        # plot the secret\n",
    "        plt.scatter(0, s, color='orange')\n",
    "    \n",
    "        print()\n",
    "        print(\"Here is a visual representation (secret in orange).\")\n",
    "        \n",
    "    return shares"
   ]
  },
  {
   "cell_type": "markdown",
   "metadata": {},
   "source": [
    "### Example\n",
    "For example, say our secret is the number 42. We'd like to share it among 10 parties (n=10), and we'll allow any 4 of those to recover the secret (t+1 can recover, so t=3).\n",
    "\n",
    "Here's how we would use (\"call\") the `share` function. Both lines below do the same thing; sometimes adding in the names of the inputs in the function call makes it easier to remember what's what."
   ]
  },
  {
   "cell_type": "code",
   "execution_count": null,
   "metadata": {},
   "outputs": [],
   "source": [
    "shares = share(42, 10, 3, True)\n",
    "shares = share(42, n=10, t=3, printout=True)"
   ]
  },
  {
   "cell_type": "markdown",
   "metadata": {},
   "source": [
    "Now we can distribute these points among our 10 parties!"
   ]
  },
  {
   "cell_type": "markdown",
   "metadata": {},
   "source": [
    "## Reconstruct\n",
    "Say 4 of those parties (Alice, Bob, Charlie, and Diane) want to recover the secret. We let t=3, so they should be able to do this (remember, a minimum of t+1 parties is needed). Together, they hold 4 points on the degree-3 polynomial, which uniquely defines it! Remember that they can pool this information to recover the polynomial, which we'll call $f$, and evaluate it at x=0 to get back the secret. This is what the `recon` function does:"
   ]
  },
  {
   "cell_type": "code",
   "execution_count": null,
   "metadata": {},
   "outputs": [],
   "source": [
    "def recon(shares, printout=False):\n",
    "    # interpolate f and recover secret = f(0)\n",
    "    f = interpolate(shares)\n",
    "    s = round(f(0))\n",
    "\n",
    "    if printout:\n",
    "        print(\"The reconstructed secret is: {}\".format(s))\n",
    "    return s"
   ]
  },
  {
   "cell_type": "markdown",
   "metadata": {},
   "source": [
    "Assuming Alice, Bob, Charlie, and Diane have the points for x=1,2,3,4, respectively, they can you use their shares of 42 (which we created earlier) to recover the secret as follows:"
   ]
  },
  {
   "cell_type": "code",
   "execution_count": null,
   "metadata": {},
   "outputs": [],
   "source": [
    "recon_s = recon([shares[0], shares[1], shares[2], shares[3]], printout=True)"
   ]
  },
  {
   "cell_type": "markdown",
   "metadata": {},
   "source": [
    "You might notice that the shares we used were numbered starting at 0 instead of 1. This is because Python is a **zero-indexed language**: it starts counting at 0. Another thing to keep in mind is that we could have used any four shares, not just the first four. Play around with the numbers above and see if you still get the same answer when you use different shares."
   ]
  },
  {
   "cell_type": "markdown",
   "metadata": {},
   "source": [
    "## Sharing messages\n",
    "So far we've shared only numbers. This might seem limiting, but the whole world can be represented in numbers! For instance, we can share messages by turning letters into numbers:\n",
    "\n",
    "| a | b | c | d | e | f | g | h | i | j | k | l | m | n | o | p | q | r | s | t | u | v | w | x | y | z |\n",
    "|:-:|:-:|:-:|:-:|:-:|:-:|:-:|:-:|:-:|:-:|:-:|:-:|:-:|:-:|:-:|:-:|:-:|:-:|:-:|:-:|:-:|:-:|:-:|:-:|:-:|:-:|\n",
    "| 1 | 2 | 3 | 4 | 5 | 6 | 7 | 8 | 9 | 10 | 11 | 12 | 13 | 14 | 15 | 16 | 17 | 18 | 19 | 20 | 21 | 22 | 23 | 24 | 25 | 26 |\n",
    "\n",
    "Then, to send the message \"Hello world!\", we turn it into a list of numbers: `[8, 5, 12, 12, 15, 23, 15, 18, 12, 4]`. (To keep things simple, we'll ignore spaces, punctuation, and other symbols.) Then we can share each of the numbers in the list, and each party will have a list of numbers that are shares of the message.\n",
    "\n",
    "The functions `share_msg` and `recon_msg` do exactly this. `share_msg` converts each letter in a message to a number and shares each of those numbers. It outputs a list of shares (points) for each party. Notice that all the points in one party's set have the same x-coordinates!\n",
    "\n",
    "`recon_msg` takes each party's list of points and reconstructs each letter; then it outputs the recovered message (since we didn't consider spaces, punctuation, etc., those are missing from the reconstructed message)."
   ]
  },
  {
   "cell_type": "code",
   "execution_count": null,
   "metadata": {},
   "outputs": [],
   "source": [
    "def share_msg(msg, n, t, p=29):\n",
    "    arr = convert_msg(msg)\n",
    "    shares_by_letter = []\n",
    "    for x in arr:\n",
    "        shares_by_letter.append(share(x, n, t, p))\n",
    "    \n",
    "    shares_by_party = []\n",
    "    for i in range(n):\n",
    "        share_i = [row[i] for row in shares_by_letter]\n",
    "        shares_by_party.append(share_i)\n",
    "        print(\"Party {}'s share is: {}\".format(i+1, share_i))\n",
    "    return shares_by_party\n",
    "\n",
    "def recon_msg(arr_shares):\n",
    "    ans = []\n",
    "    for i in range(len(arr_shares[0])):\n",
    "        letter_shares = [arr[i] for arr in arr_shares]\n",
    "        ans.append(recon(letter_shares))\n",
    "    return nums_to_msg(ans)"
   ]
  },
  {
   "cell_type": "markdown",
   "metadata": {},
   "source": [
    "### Example\n",
    "Here is how we share our example message \"Hello world!\" among 5 parties so that any t+1=3 can recover:"
   ]
  },
  {
   "cell_type": "code",
   "execution_count": null,
   "metadata": {},
   "outputs": [],
   "source": [
    "msg_shares = share_msg(\"Hello world!\", n=5, t=2)"
   ]
  },
  {
   "cell_type": "markdown",
   "metadata": {},
   "source": [
    "And here is the reconstruction, first using all the shares, then using only 3 of them. As long as we provide at least t+1=3 shares to the reconstruction function, it'll work."
   ]
  },
  {
   "cell_type": "code",
   "execution_count": null,
   "metadata": {},
   "outputs": [],
   "source": [
    "print(recon_msg(msg_shares))\n",
    "print(recon_msg([msg_shares[0], msg_shares[1], msg_shares[3]]))"
   ]
  },
  {
   "cell_type": "markdown",
   "metadata": {},
   "source": [
    "## Now it's your turn!\n",
    "We're going to break into groups and you'll have a chance to share your own messages among the group! Set `n` equal to the group size (including you!) and then pick whatever threshold `t` you want to determine how many people can reconstruct. Pass out the shares of your secret message (you don't even have to give them all out!) and ask your group members to recover your message. Below is some code you can use, but feel free to play around with it and change parts of it as you like!\n",
    "\n",
    "Some ideas:\n",
    "- Set t=(n-2)/2 and pass out all the shares. Then split your group in half and have each half work together to recover the message. Report back with your message – both subgroups should get the same thing!\n",
    "- Set t=n-2 and pass out all the shares. Ask your group to recover your message without helping. Even without your points, they should still be able to recover the message."
   ]
  },
  {
   "cell_type": "code",
   "execution_count": null,
   "metadata": {},
   "outputs": [],
   "source": [
    "print(\"Pass out a lists of points to each of your group members: \")\n",
    "msg_shares = share_msg(\"Your message here!\", n=5, t=4) # change n, t as you like"
   ]
  },
  {
   "cell_type": "code",
   "execution_count": null,
   "metadata": {},
   "outputs": [],
   "source": [
    "# enter lists of points (shares) to reconstruct like this: \n",
    "recon_msg([\n",
    "    [(1, 39), (1, 57), (1, 60), (1, 12), (1, 55), (1, 55), (1, 37), (1, 19), (1, 38), (1, 24), (1, 38)],\n",
    "    [(4, 267), (4, 405), (4, 456), (4, 45), (4, 454), (4, 319), (4, 181), (4, 91), (4, 290), (4, 117), (4, 92)],\n",
    "    [(5, 399), (5, 601), (5, 676), (5, 60), (5, 683), (5, 459), (5, 245), (5, 123), (5, 438), (5, 160), (5, 110)]\n",
    "])"
   ]
  }
 ],
 "metadata": {
  "kernelspec": {
   "display_name": "Python 3",
   "language": "python",
   "name": "python3"
  },
  "language_info": {
   "codemirror_mode": {
    "name": "ipython",
    "version": 3
   },
   "file_extension": ".py",
   "mimetype": "text/x-python",
   "name": "python",
   "nbconvert_exporter": "python",
   "pygments_lexer": "ipython3",
   "version": "3.9.4"
  }
 },
 "nbformat": 4,
 "nbformat_minor": 4
}
