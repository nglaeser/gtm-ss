{
 "cells": [
  {
   "cell_type": "markdown",
   "metadata": {},
   "source": [
    "# Secret Sharing\n",
    "\n",
    "_Secret sharing_ protocols are ways to \"split\" a secret value (call it $s$) into pieces and distribute those pieces among a large set of people. Then, if some subset (or maybe the entire set) works together, they can recover $s$; otherwise, $s$ remains completely unknown.\n",
    "\n",
    "First, we'll import some basic Python functions we'll use throughout our code:"
   ]
  },
  {
   "cell_type": "code",
   "execution_count": 17,
   "metadata": {},
   "outputs": [],
   "source": [
    "import numpy as np\n",
    "import random, sympy, math\n",
    "import matplotlib.pyplot as plt"
   ]
  },
  {
   "cell_type": "markdown",
   "metadata": {},
   "source": [
    "## XOR Secret Sharing\n",
    "\n",
    "XOR secret sharing is a simple 2-out-of-2 secret sharing scheme, meaning we split the secret $s$ into 2 _shares_ and both shares are required to recover the secret. The \"XOR\" part of the name refers to the eXclusive OR (XOR) operation, denoted by $\\oplus$. Remember from our packet that this is a _binary_ operation described by the following table:\n",
    "\n",
    "|||\n",
    "|-------------|---|\n",
    "|0 $\\oplus$ 0 | 0 |\n",
    "|0 $\\oplus$ 1 | 1 |\n",
    "|1 $\\oplus$ 0 | 1 |\n",
    "|1 $\\oplus$ 1 | 0 |"
   ]
  },
  {
   "cell_type": "code",
   "execution_count": 99,
   "metadata": {},
   "outputs": [],
   "source": [
    "def int_to_bin(i):\n",
    "    return bin(i)[2:]\n",
    "\n",
    "def bin_to_int(b):\n",
    "    return int('0b{}'.format(b), 2)"
   ]
  },
  {
   "cell_type": "code",
   "execution_count": 100,
   "metadata": {},
   "outputs": [
    {
     "name": "stdout",
     "output_type": "stream",
     "text": [
      "1000\n",
      "7\n"
     ]
    }
   ],
   "source": [
    "print(int_to_bin(8))\n",
    "print(bin_to_int('111'))"
   ]
  },
  {
   "cell_type": "markdown",
   "metadata": {},
   "source": [
    "Python has a built-in XOR operator: `^`. To compute $a \\oplus b$ in Python, we can just write `a ^ b`:"
   ]
  },
  {
   "cell_type": "code",
   "execution_count": 101,
   "metadata": {},
   "outputs": [
    {
     "name": "stdout",
     "output_type": "stream",
     "text": [
      "0\n",
      "1\n",
      "1\n",
      "0\n"
     ]
    }
   ],
   "source": [
    "print(0^0)\n",
    "print(0^1)\n",
    "print(1^0)\n",
    "print(1^1)"
   ]
  },
  {
   "cell_type": "markdown",
   "metadata": {},
   "source": [
    "Even better, it works on integers, because Python automatically converts them into binary, computes the XOR, and converts the binary output back into an integer!"
   ]
  },
  {
   "cell_type": "code",
   "execution_count": 103,
   "metadata": {},
   "outputs": [
    {
     "data": {
      "text/plain": [
       "59"
      ]
     },
     "execution_count": 103,
     "metadata": {},
     "output_type": "execute_result"
    }
   ],
   "source": [
    "17^42"
   ]
  },
  {
   "cell_type": "markdown",
   "metadata": {},
   "source": [
    "### Share and Reconstruct\n",
    "Okay, now let's use this to make a secret-sharing scheme. Here's what our sharing and reconstruction functions look like in Python:"
   ]
  },
  {
   "cell_type": "code",
   "execution_count": 79,
   "metadata": {},
   "outputs": [],
   "source": [
    "def xor_share(s):\n",
    "    security_level = 2**8\n",
    "    s1 = random.randint(0, security_level)\n",
    "    s2 = s ^ s1\n",
    "    return (s1, s2)\n",
    "\n",
    "def xor_recon(s1, s2):\n",
    "    return s1^s2"
   ]
  },
  {
   "cell_type": "code",
   "execution_count": 84,
   "metadata": {},
   "outputs": [
    {
     "data": {
      "text/plain": [
       "(163, 137)"
      ]
     },
     "execution_count": 84,
     "metadata": {},
     "output_type": "execute_result"
    }
   ],
   "source": [
    "s1, s2 = xor_share(42)\n",
    "s1, s2"
   ]
  },
  {
   "cell_type": "code",
   "execution_count": 85,
   "metadata": {},
   "outputs": [
    {
     "data": {
      "text/plain": [
       "42"
      ]
     },
     "execution_count": 85,
     "metadata": {},
     "output_type": "execute_result"
    }
   ],
   "source": [
    "xor_recon(s1, s2)"
   ]
  },
  {
   "cell_type": "markdown",
   "metadata": {},
   "source": [
    "## Shamir Secret Sharing\n",
    "\n",
    "Shamir secret sharing is a $(t+1)$-out-of-$n$ secret sharing protocol, for some numbers $t$ and $n$. This means that we split the secret $s$ into $n$ values and distribute them to $n$ people. Then, at least $t+1$ of those people must work together to recover $s$."
   ]
  },
  {
   "cell_type": "markdown",
   "metadata": {},
   "source": [
    "First, let's define some helper functions for dealing with polynomials.\n",
    "\n",
    "**TODO: move these into another file and import them (the students don't need to see or mess with this code).**"
   ]
  },
  {
   "cell_type": "code",
   "execution_count": 4,
   "metadata": {},
   "outputs": [],
   "source": [
    "def term_to_string(coeff, deg):\n",
    "    if coeff == 0:\n",
    "        return \"\"\n",
    "\n",
    "    temp = \"{}\".format(coeff)\n",
    "    app = \"\"\n",
    "    # constant term\n",
    "    if deg == 0:\n",
    "        return temp\n",
    "    # x term\n",
    "    elif deg == 1:\n",
    "        app = \"x\"\n",
    "    # others\n",
    "    else:\n",
    "        app = \"x^{}\".format(deg)\n",
    "    return app if coeff == 1 else temp+app\n",
    "\n",
    "def print_poly(coeffs):\n",
    "    poly_str = \"\"\n",
    "    \n",
    "    # coefficients from highest to lowest degree\n",
    "    deg = len(coeffs)-1\n",
    "    for i in range(len(coeffs)):\n",
    "        if(coeffs[i]!=0):\n",
    "            poly_str += \"{} + \".format(term_to_string(coeffs[i], deg-i))\n",
    "    \n",
    "    # remove extra + at end\n",
    "    print(poly_str[:-3])\n",
    "    \n",
    "def eval_poly(coeffs, x):\n",
    "    # coefficients from highest to lowest degree\n",
    "    deg = len(coeffs)-1\n",
    "    ans = 0\n",
    "    for i in range(len(coeffs)):\n",
    "        ans += coeffs[i]*x**(deg-i)\n",
    "        \n",
    "    # in real SSS, this is over a finite field (mod p)\n",
    "    # return ans%p\n",
    "    \n",
    "    # but this is not representable in 2D so we will use int arith\n",
    "    # (note this is not secure)\n",
    "    return ans"
   ]
  },
  {
   "cell_type": "markdown",
   "metadata": {},
   "source": [
    "### Share\n",
    "Here is our sharing function:\n",
    "- define a polynomial $f(X) = f_t X^t + \\ldots + f_1 X + s$, where $f_t, \\ldots, f_1$ are randomly chosen coefficients\n",
    "- give the _share_ $f(i)$ to $i$th person (where $i$ is an index between 1 and $n$)\n",
    "\n",
    "**TODO: describe extra details like the requirement that $t < n < p$ and that we're working over a field -- probably without actually using the term field.**\n",
    "\n",
    "This is what it looks like in Python:"
   ]
  },
  {
   "cell_type": "code",
   "execution_count": 5,
   "metadata": {},
   "outputs": [],
   "source": [
    "def share(s, n, t, p):\n",
    "    # check p\n",
    "    if not sympy.isprime(p):\n",
    "        print(\"p={} is not prime!\".format(p))\n",
    "        return\n",
    "    if p <= n:\n",
    "        print(\"p={} must be greater than n={}\".format(p, n))\n",
    "        return\n",
    "        \n",
    "    # check t\n",
    "    if t >= n:\n",
    "        print(\"t={} must be less than n={}\".format(t, n))\n",
    "        return\n",
    "\n",
    "    # check s is in field\n",
    "    if p <= s:\n",
    "        print(\"s={} must be less than p={}\".format(s, p))\n",
    "        return\n",
    "        \n",
    "    coeffs = []\n",
    "    for i in range(t):\n",
    "        # sample coefficients from F_p = {0, ..., p-1}\n",
    "        coeffs.append(random.randint(0,p-1))\n",
    "    # secret is the y-intercept\n",
    "    coeffs.append(s)\n",
    "    \n",
    "    shares = []\n",
    "    for i in range(1,n+1):\n",
    "        shares.append((i, eval_poly(coeffs, i)))\n",
    "        \n",
    "    # plot the polynomial\n",
    "    print(\"The random degree t={} polynomial is\".format(t))\n",
    "    print_poly(coeffs)\n",
    "    x = np.linspace(0, n, n+1)\n",
    "    y = [eval_poly(coeffs, i) for i in x]\n",
    "    plt.plot(x, y)\n",
    "    \n",
    "    # plot the shares\n",
    "    print()\n",
    "    print(\"The shares are points on that polynomial:\")\n",
    "    print(shares)\n",
    "    x1 = [shares[i][0] for i in range(len(shares))]\n",
    "    y1 = [shares[i][1] for i in range(len(shares))]\n",
    "    plt.scatter(x1, y1)\n",
    "    \n",
    "    # plot the secret\n",
    "    plt.scatter(0, s)\n",
    "    \n",
    "    print()\n",
    "    print(\"Here is a visual representation (secret in orange).\")\n",
    "        \n",
    "    return shares"
   ]
  },
  {
   "cell_type": "markdown",
   "metadata": {},
   "source": [
    "For example, say our secret is the number 42. We'd like to share it among 10 parties (n=10), and we'll allow any 4 of those to recover the secret (t=3, t+1 can recover). Now let's pick a prime number p that's bigger than both the secret and the number of parties (so, p>42). The next largest prime is 43, so let's try that!\n",
    "\n",
    "How would you call the `share` function with these parameters?\n",
    "\n",
    "**Answer**\n",
    "```\n",
    "shares = share(42, 10, 3, 43)\n",
    "```"
   ]
  },
  {
   "cell_type": "code",
   "execution_count": 6,
   "metadata": {},
   "outputs": [
    {
     "name": "stdout",
     "output_type": "stream",
     "text": [
      "The random degree t=3 polynomial is\n",
      "42x^3 + 28x^2 + 35x + 42\n",
      "\n",
      "The shares are points on that polynomial:\n",
      "[(1, 147), (2, 560), (3, 1533), (4, 3318), (5, 6167), (6, 10332), (7, 16065), (8, 23618), (9, 33243), (10, 45192)]\n",
      "\n",
      "Here is a visual representation (secret in orange).\n"
     ]
    },
    {
     "data": {
      "image/png": "[encoded data removed]",
      "text/plain": [
       "<Figure size 432x288 with 1 Axes>"
      ]
     },
     "metadata": {
      "needs_background": "light"
     },
     "output_type": "display_data"
    }
   ],
   "source": [
    "n=10\n",
    "t=3\n",
    "p=43\n",
    "shares = share(42, n, t, p)"
   ]
  },
  {
   "cell_type": "markdown",
   "metadata": {},
   "source": [
    "Now we can distribute these points among our 10 parties!"
   ]
  },
  {
   "cell_type": "markdown",
   "metadata": {},
   "source": [
    "### Reconstruct\n",
    "So now that we have shares, how can $t+1$ parties get back the secret? We can reconstruct $s$ by having at least $t+1$ parties pool their points $(i, f(i))$ and reconstruct the polynomial $f$. One way to do this (introduced in the packet) is called *Lagrange interpolation*:\n",
    "\n",
    "$$ f(X) = \\sum_i^{t+1} \\ell_i \\cdot f(i), \\text{ where } \\ell_i(X) = \\frac{\\Pi_{j \\neq i} (X-x_j)}{\\Pi_{j \\neq i} (x_i-x_j)} $$ \n",
    "\n",
    "Once we've recovered the polynomial $f$, we can just evaluate $f(0) = s$. Here's how to do that in Python:"
   ]
  },
  {
   "cell_type": "code",
   "execution_count": 7,
   "metadata": {},
   "outputs": [],
   "source": [
    "def recon(shares, n, t):\n",
    "    if len(shares) < t+1:\n",
    "        print(\"Not enough shares to reconstruct! ({} < t+1={})\".format(len(shares), t+1))\n",
    "        return\n",
    "    \n",
    "    # i Lagrange basis polynomials evaluated at 0\n",
    "    ell = [1]*len(shares)\n",
    "    for i in range(len(shares)):\n",
    "        #ell[i] = 1\n",
    "        for j in range(len(shares)):\n",
    "            if i!=j:\n",
    "                ell[i] *= float(0-shares[j][0])/(shares[i][0]-shares[j][0])\n",
    "    \n",
    "    # interpolate\n",
    "    # f(X) = sum_1^{t+1} ell_i(X) * y_i\n",
    "    # s = f(0)\n",
    "    s = 0\n",
    "    for i in range(len(shares)):\n",
    "        s += ell[i]*shares[i][1]\n",
    "\n",
    "    print(\"The reconstructed secret is:\")\n",
    "    return int(s)"
   ]
  },
  {
   "cell_type": "markdown",
   "metadata": {},
   "source": [
    "Say, for example, that 4 of our 10 parties above (Alice, Bob, Charlie, and Diana) want to recover the secret. We set $t=3$, so they should be able to do this (remember, a minimum of $t+1$ parties is needed). Together, they hold 4 points on the degree-3 polynomial, which uniquely defines it! They can pool this information to recover the polynomial $f$ and evaluate it at $x=0$ using `recon`.\n",
    "\n",
    "Assuming Alice, Bob, Charlie, and Diane have the points for $x=1,2,3,4$, respectively, can you use the shares we created earlier to recover the secret?\n",
    "\n",
    "**Answer**\n",
    "```\n",
    "recon(shares[:4], n=10, t=3)\n",
    "```"
   ]
  },
  {
   "cell_type": "code",
   "execution_count": 8,
   "metadata": {},
   "outputs": [
    {
     "name": "stdout",
     "output_type": "stream",
     "text": [
      "The reconstructed secret is:\n"
     ]
    },
    {
     "data": {
      "text/plain": [
       "42"
      ]
     },
     "execution_count": 8,
     "metadata": {},
     "output_type": "execute_result"
    }
   ],
   "source": [
    "recon(shares, n, t)"
   ]
  }
 ],
 "metadata": {
  "kernelspec": {
   "display_name": "Python 3",
   "language": "python",
   "name": "python3"
  },
  "language_info": {
   "codemirror_mode": {
    "name": "ipython",
    "version": 3
   },
   "file_extension": ".py",
   "mimetype": "text/x-python",
   "name": "python",
   "nbconvert_exporter": "python",
   "pygments_lexer": "ipython3",
   "version": "3.7.7"
  }
 },
 "nbformat": 4,
 "nbformat_minor": 4
}
